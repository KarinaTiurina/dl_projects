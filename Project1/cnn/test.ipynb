{
 "cells": [
  {
   "cell_type": "markdown",
   "metadata": {},
   "source": [
    "# Convolutional Neural Network\n",
    "\n",
    "This notebook contains tests of the CNN architecture. Results will later be copied to the main Jupyter Notebook in the root folder of the Project 1."
   ]
  },
  {
   "cell_type": "code",
   "execution_count": 14,
   "metadata": {},
   "outputs": [],
   "source": [
    "from tensorflow import keras\n",
    "import os\n",
    "import cv2\n",
    "import numpy as np\n",
    "\n",
    "\n",
    "from model.CNN import CNN\n",
    "\n",
    "data_path = os.path.abspath('../data/cinic-10_image_classification_challenge-dataset/train')\n"
   ]
  },
  {
   "cell_type": "code",
   "execution_count": 2,
   "metadata": {},
   "outputs": [
    {
     "name": "stdout",
     "output_type": "stream",
     "text": [
      "Found 90000 files belonging to 10 classes.\n",
      "Using 72000 files for training.\n"
     ]
    }
   ],
   "source": [
    "train_ds = keras.preprocessing.image_dataset_from_directory(\n",
    "    data_path,\n",
    "    validation_split=0.2,\n",
    "    subset=\"both\",\n",
    "    seed=1337,\n",
    "    image_size=(32, 32),\n",
    "    batch_size=16\n",
    ")"
   ]
  },
  {
   "cell_type": "code",
   "execution_count": 3,
   "metadata": {},
   "outputs": [
    {
     "name": "stdout",
     "output_type": "stream",
     "text": [
      "Classes: ['airplane', 'automobile', 'bird', 'cat', 'deer', 'dog', 'frog', 'horse', 'ship', 'truck']\n"
     ]
    }
   ],
   "source": [
    "class_names = train_ds.class_names\n",
    "print(f'Classes: {class_names}')"
   ]
  },
  {
   "cell_type": "code",
   "execution_count": 4,
   "metadata": {},
   "outputs": [
    {
     "name": "stdout",
     "output_type": "stream",
     "text": [
      "WARNING:tensorflow:From c:\\ProgramFiles\\Anaconda3\\envs\\tensorflow\\Lib\\site-packages\\keras\\src\\backend.py:1398: The name tf.executing_eagerly_outside_functions is deprecated. Please use tf.compat.v1.executing_eagerly_outside_functions instead.\n",
      "\n",
      "WARNING:tensorflow:From c:\\ProgramFiles\\Anaconda3\\envs\\tensorflow\\Lib\\site-packages\\keras\\src\\layers\\pooling\\max_pooling2d.py:161: The name tf.nn.max_pool is deprecated. Please use tf.nn.max_pool2d instead.\n",
      "\n"
     ]
    }
   ],
   "source": [
    "cnn = CNN()\n",
    "model = cnn.prepare_single_CNN_layer((32, 32, 3), len(class_names))"
   ]
  },
  {
   "cell_type": "code",
   "execution_count": 6,
   "metadata": {},
   "outputs": [
    {
     "name": "stdout",
     "output_type": "stream",
     "text": [
      "WARNING:tensorflow:From c:\\ProgramFiles\\Anaconda3\\envs\\tensorflow\\Lib\\site-packages\\keras\\src\\optimizers\\__init__.py:309: The name tf.train.Optimizer is deprecated. Please use tf.compat.v1.train.Optimizer instead.\n",
      "\n"
     ]
    }
   ],
   "source": [
    "model.compile(\n",
    "    optimizer='adamax',\n",
    "    loss='sparse_categorical_crossentropy',\n",
    "    metrics=['accuracy']\n",
    ")"
   ]
  },
  {
   "cell_type": "code",
   "execution_count": 7,
   "metadata": {},
   "outputs": [
    {
     "name": "stdout",
     "output_type": "stream",
     "text": [
      "Epoch 1/10\n",
      "WARNING:tensorflow:From c:\\ProgramFiles\\Anaconda3\\envs\\tensorflow\\Lib\\site-packages\\keras\\src\\utils\\tf_utils.py:492: The name tf.ragged.RaggedTensorValue is deprecated. Please use tf.compat.v1.ragged.RaggedTensorValue instead.\n",
      "\n",
      "WARNING:tensorflow:From c:\\ProgramFiles\\Anaconda3\\envs\\tensorflow\\Lib\\site-packages\\keras\\src\\engine\\base_layer_utils.py:384: The name tf.executing_eagerly_outside_functions is deprecated. Please use tf.compat.v1.executing_eagerly_outside_functions instead.\n",
      "\n",
      "4500/4500 [==============================] - 568s 126ms/step - loss: 4.3025 - accuracy: 0.3304\n",
      "Epoch 2/10\n",
      "4500/4500 [==============================] - 510s 113ms/step - loss: 1.4771 - accuracy: 0.4708\n",
      "Epoch 3/10\n",
      "4500/4500 [==============================] - 501s 111ms/step - loss: 1.0281 - accuracy: 0.6403\n",
      "Epoch 4/10\n",
      "4500/4500 [==============================] - 505s 112ms/step - loss: 0.6110 - accuracy: 0.7975\n",
      "Epoch 5/10\n",
      "4500/4500 [==============================] - 513s 114ms/step - loss: 0.3293 - accuracy: 0.8980\n",
      "Epoch 6/10\n",
      "4500/4500 [==============================] - 519s 115ms/step - loss: 0.1863 - accuracy: 0.9461\n",
      "Epoch 7/10\n",
      "4500/4500 [==============================] - 517s 115ms/step - loss: 0.1205 - accuracy: 0.9685\n",
      "Epoch 8/10\n",
      "4500/4500 [==============================] - 521s 116ms/step - loss: 0.0877 - accuracy: 0.9775\n",
      "Epoch 9/10\n",
      "4500/4500 [==============================] - 515s 114ms/step - loss: 0.0656 - accuracy: 0.9841\n",
      "Epoch 10/10\n",
      "4500/4500 [==============================] - 515s 114ms/step - loss: 0.0507 - accuracy: 0.9876\n"
     ]
    },
    {
     "data": {
      "text/plain": [
       "<keras.src.callbacks.History at 0x22c313fc610>"
      ]
     },
     "execution_count": 7,
     "metadata": {},
     "output_type": "execute_result"
    }
   ],
   "source": [
    "history = model.fit(\n",
    "  train_ds,\n",
    "  epochs=10\n",
    ")"
   ]
  },
  {
   "cell_type": "code",
   "execution_count": 13,
   "metadata": {},
   "outputs": [
    {
     "name": "stdout",
     "output_type": "stream",
     "text": [
      "90000\n"
     ]
    }
   ],
   "source": [
    "test_path = os.path.abspath('../data/cinic-10_image_classification_challenge-dataset/test')\n",
    "\n",
    "resultFile = []\n",
    "\n",
    "total = 0\n",
    "list = os.scandir(test_path)\n",
    "# print(len(list))\n",
    "print(sum(1 for _ in list))\n",
    "# for testPicture in list:\n",
    "#     image_to_predict = cv2.imread(testPicture.path, cv2.IMREAD_COLOR)\n",
    "#     img_to_predict = np.expand_dims(cv2.resize(image_to_predict, (32, 32)), axis=0)\n",
    "    \n",
    "#     #prediction\n",
    "#     res = np.argmax(model.predict(img_to_predict), axis=-1)\n",
    "#     resultFile.append(testPicture.name + ',' + class_names[res[0]])\n",
    "    \n",
    "#     total += 1\n",
    "#     print(\"Total images : \" + str(total), end='\\r')\n",
    "#     # print(resultFile)\n",
    "    \n",
    "    \n",
    "    \n",
    "# f = open('test.csv', 'w')\n",
    "# f.write('filename,label')\n",
    "# f.write('\\n')\n",
    "# for resultLine in resultFile:\n",
    "#     f.write(resultLine)\n",
    "#     f.write('\\n')\n",
    "# f.close()"
   ]
  }
 ],
 "metadata": {
  "kernelspec": {
   "display_name": "tensorflow",
   "language": "python",
   "name": "python3"
  },
  "language_info": {
   "codemirror_mode": {
    "name": "ipython",
    "version": 3
   },
   "file_extension": ".py",
   "mimetype": "text/x-python",
   "name": "python",
   "nbconvert_exporter": "python",
   "pygments_lexer": "ipython3",
   "version": "3.11.5"
  }
 },
 "nbformat": 4,
 "nbformat_minor": 2
}
