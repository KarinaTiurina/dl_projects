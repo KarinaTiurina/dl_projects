{
 "cells": [
  {
   "cell_type": "markdown",
   "id": "6e806a07",
   "metadata": {},
   "source": [
    "# Hard voting"
   ]
  },
  {
   "cell_type": "markdown",
   "id": "f4f09312",
   "metadata": {},
   "source": [
    "Tests of the hard voting for chosen models."
   ]
  },
  {
   "cell_type": "code",
   "execution_count": 30,
   "id": "2c27faff",
   "metadata": {},
   "outputs": [],
   "source": [
    "from tensorflow.keras.models import load_model\n",
    "from tensorflow.keras.preprocessing.image import ImageDataGenerator\n",
    "from tensorflow import keras\n",
    "import numpy as np\n",
    "from sklearn.metrics import accuracy_score\n",
    "import pandas as pd"
   ]
  },
  {
   "cell_type": "code",
   "execution_count": 22,
   "id": "8d4c75b4",
   "metadata": {},
   "outputs": [],
   "source": [
    "seed = 2024\n",
    "TRAIN_DIR = '../voting/data/train'"
   ]
  },
  {
   "cell_type": "code",
   "execution_count": 23,
   "id": "f583042a",
   "metadata": {},
   "outputs": [],
   "source": [
    "def hard_vote(preds1, preds2, preds3):\n",
    "    final_preds = []\n",
    "    for i in range(len(preds1)):\n",
    "        combined_preds = np.array([preds1[i], preds2[i], preds3[i]])\n",
    "        final_preds.append(np.argmax(np.sum(combined_preds, axis=0)))\n",
    "    return np.array(final_preds)"
   ]
  },
  {
   "cell_type": "markdown",
   "id": "318b9637",
   "metadata": {},
   "source": [
    "## Test 1: Hard voting for best VGG models\n",
    "VGG8 for learning rate = 0.01 $\\newline$\n",
    "VGG9 for batch size = 128 $\\newline$\n",
    "VGG14"
   ]
  },
  {
   "cell_type": "code",
   "execution_count": 24,
   "id": "8037ea20",
   "metadata": {},
   "outputs": [],
   "source": [
    "vgg8 = load_model('vgg8/3.keras')\n",
    "vgg9 = load_model('vgg9/2.keras')\n",
    "vgg14 = load_model('vgg14/0.keras')"
   ]
  },
  {
   "cell_type": "code",
   "execution_count": 25,
   "id": "736c219a",
   "metadata": {},
   "outputs": [
    {
     "name": "stdout",
     "output_type": "stream",
     "text": [
      "Found 18000 images belonging to 10 classes.\n"
     ]
    }
   ],
   "source": [
    "datagen = ImageDataGenerator(validation_split=0.2,\n",
    "                             rescale=1./255)\n",
    "\n",
    "val_generator = datagen.flow_from_directory(\n",
    "        TRAIN_DIR,\n",
    "        subset='validation',\n",
    "        seed=seed,\n",
    "        target_size=(32, 32),\n",
    "        batch_size=16\n",
    "    )"
   ]
  },
  {
   "cell_type": "code",
   "execution_count": 26,
   "id": "0fe626e7",
   "metadata": {},
   "outputs": [],
   "source": [
    "X, y = zip(*(val_generator[i] for i in range(len(val_generator))))\n",
    "X_test, y_test = np.vstack(X), np.vstack(y)"
   ]
  },
  {
   "cell_type": "code",
   "execution_count": 27,
   "id": "3dcd9cbe",
   "metadata": {},
   "outputs": [
    {
     "name": "stdout",
     "output_type": "stream",
     "text": [
      "563/563 [==============================] - 149s 264ms/step\n",
      "563/563 [==============================] - 152s 268ms/step\n",
      "563/563 [==============================] - 160s 282ms/step\n"
     ]
    }
   ],
   "source": [
    "y_pred1 = vgg8.predict(X_test)\n",
    "y_pred2 = vgg9.predict(X_test)\n",
    "y_pred3 = vgg14.predict(X_test)\n",
    "y_test = np.argmax(y_test, axis=1)"
   ]
  },
  {
   "cell_type": "code",
   "execution_count": 28,
   "id": "5bcc60ba",
   "metadata": {},
   "outputs": [
    {
     "data": {
      "text/plain": [
       "0.5692222222222222"
      ]
     },
     "execution_count": 28,
     "metadata": {},
     "output_type": "execute_result"
    }
   ],
   "source": [
    "final_predictions = hard_vote(y_pred1, y_pred2, y_pred3)\n",
    "accuracy = accuracy_score(final_predictions, y_test)\n",
    "accuracy"
   ]
  },
  {
   "cell_type": "code",
   "execution_count": 36,
   "id": "a1c9783f",
   "metadata": {},
   "outputs": [
    {
     "name": "stdout",
     "output_type": "stream",
     "text": [
      "Attempts accuracy is saved to train_history/vgghardvoting/accuracy.csv\n"
     ]
    }
   ],
   "source": [
    "name = 'vgghardvoting'\n",
    "accuracy_df = pd.DataFrame(data=[accuracy], columns = ['accuracy'])\n",
    "accuracy_csv_file = f'train_history/{name}/accuracy.csv'\n",
    "with open(accuracy_csv_file, mode='w') as f:\n",
    "    accuracy_df.to_csv(f)\n",
    "print(f'Attempts accuracy is saved to {accuracy_csv_file}')"
   ]
  },
  {
   "cell_type": "code",
   "execution_count": null,
   "id": "564ed305",
   "metadata": {},
   "outputs": [],
   "source": []
  },
  {
   "cell_type": "code",
   "execution_count": null,
   "id": "4b161612",
   "metadata": {},
   "outputs": [],
   "source": []
  }
 ],
 "metadata": {
  "kernelspec": {
   "display_name": "Python 3 (ipykernel)",
   "language": "python",
   "name": "python3"
  },
  "language_info": {
   "codemirror_mode": {
    "name": "ipython",
    "version": 3
   },
   "file_extension": ".py",
   "mimetype": "text/x-python",
   "name": "python",
   "nbconvert_exporter": "python",
   "pygments_lexer": "ipython3",
   "version": "3.9.13"
  }
 },
 "nbformat": 4,
 "nbformat_minor": 5
}
